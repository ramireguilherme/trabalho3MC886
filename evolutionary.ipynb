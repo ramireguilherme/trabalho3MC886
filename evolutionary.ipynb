{
 "cells": [
  {
   "cell_type": "code",
   "execution_count": 4,
   "id": "3c345e76",
   "metadata": {},
   "outputs": [],
   "source": [
    "from game import Agent\n",
    "import numpy as np\n",
    "import Agents"
   ]
  },
  {
   "cell_type": "markdown",
   "id": "d021c758",
   "metadata": {},
   "source": [
    "#The evolutionary model adopted\n",
    "• Variations on parameters\n",
    "• Fitness function adopted\n",
    "f = score/maxscore\n",
    "• Population size\n",
    "10\n",
    "• Stop criteria\n",
    "\n",
    "• Selection technique\n",
    "• Crossover technique\n",
    "• Mutation technique\n",
    "• Replacement method"
   ]
  },
  {
   "cell_type": "code",
   "execution_count": 5,
   "id": "aceb542d",
   "metadata": {},
   "outputs": [],
   "source": [
    "class EvolAgent(Agent):\n",
    "    QTable = {}\n",
    "    def __init__( self, alpha = 0.7, gamma = 0.9, epsilon = 0.3 ):\n",
    "        self.alpha = alpha\n",
    "        self.gamma = gamma\n",
    "        self.epsilon = epsilon\n",
    "        self.actions = {'North': 0, 'East': 1, 'South': 2, 'West': 3, 'Stop': 4}\n",
    "        self.possibleActions = ['North', 'East', 'South', 'West', 'Stop']\n",
    "    "
   ]
  },
  {
   "cell_type": "code",
   "execution_count": null,
   "id": "fd518c61",
   "metadata": {},
   "outputs": [],
   "source": []
  }
 ],
 "metadata": {
  "kernelspec": {
   "display_name": "Python 3",
   "language": "python",
   "name": "python3"
  },
  "language_info": {
   "codemirror_mode": {
    "name": "ipython",
    "version": 3
   },
   "file_extension": ".py",
   "mimetype": "text/x-python",
   "name": "python",
   "nbconvert_exporter": "python",
   "pygments_lexer": "ipython3",
   "version": "3.6.9"
  }
 },
 "nbformat": 4,
 "nbformat_minor": 5
}
